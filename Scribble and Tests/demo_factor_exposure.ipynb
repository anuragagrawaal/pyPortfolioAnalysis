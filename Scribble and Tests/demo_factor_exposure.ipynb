{
 "cells": [
  {
   "cell_type": "markdown",
   "metadata": {},
   "source": [
    "# Dollar Neutral Portfolio with exposure to factor of OIL."
   ]
  },
  {
   "cell_type": "code",
   "execution_count": 46,
   "metadata": {},
   "outputs": [],
   "source": [
    "#downloading Data...\n",
    "#portfolio consists of 2 stocks, 1 ETF, 1 Mutual Fund, and 1 currency\n",
    "import pandas_datareader as pdr\n",
    "wmt = pdr.get_data_yahoo('WMT')\n",
    "mcd = pdr.get_data_yahoo('MCD')\n",
    "ge = pdr.get_data_yahoo('GE')\n",
    "\n",
    "import pandas as pd\n",
    "port = pd.DataFrame({'wmt':pd.DataFrame.reset_index(wmt).iloc[:,6], 'mcd':pd.DataFrame.reset_index(mcd).iloc[:,6],\n",
    "                   'ge':pd.DataFrame.reset_index(ge).iloc[:,6]})\n",
    "port_ret = port.pct_change().dropna()"
   ]
  },
  {
   "cell_type": "code",
   "execution_count": 47,
   "metadata": {},
   "outputs": [],
   "source": [
    "#factor_1 is oil prices\n",
    "factor_1 = pdr.get_data_yahoo('CL=F')\n",
    "factor_1 = pd.DataFrame({'factor_1':pd.DataFrame.reset_index(factor_1).iloc[:,6]})"
   ]
  },
  {
   "cell_type": "code",
   "execution_count": 48,
   "metadata": {},
   "outputs": [],
   "source": [
    "import numpy as np\n",
    "factor_exp = [0]*port_ret.shape[1]\n",
    "for i in range(0,port_ret.shape[1]):\n",
    "    factor_exp[i] = np.cov(np.transpose(factor_1), port_ret.iloc[:len(factor_1),i])[0][1]"
   ]
  },
  {
   "cell_type": "code",
   "execution_count": 61,
   "metadata": {},
   "outputs": [
    {
     "data": {
      "text/plain": [
       "{'Assets': ['wmt', 'mcd', 'ge'],\n",
       " 'Number of Assets': 3,\n",
       " 'category_labels': None,\n",
       " 'Constraints': {'box': {'minimum': [-0.3, -0.1, -0.3],\n",
       "   'maximum': [0.4, 0.75, 0.6],\n",
       "   'enabled': True},\n",
       "  'full_investment': {'min_sum': 1, 'max_sum': 1, 'enabled': True},\n",
       "  'group': {'groups': {'auto': [2], 'other': [0, 1]},\n",
       "   'group_min': [-0.2, -0.3],\n",
       "   'group_max': [0.4, 0.99],\n",
       "   'group_label': ['auto', 'other'],\n",
       "   'enabled': True},\n",
       "  'factor_exposure': {'B': matrix([[-0.00592496],\n",
       "           [-0.00326583],\n",
       "           [ 0.00099429]]),\n",
       "   'lower': 0.0,\n",
       "   'upper': 0.0005,\n",
       "   'enabled': True}},\n",
       " 'Objectives': {'return': {'target': 0.0005,\n",
       "   'multiplier': -1,\n",
       "   'arguments': {},\n",
       "   'enabled': True,\n",
       "   'name': 'mean'},\n",
       "  'risk': {'target': 0.01,\n",
       "   'multiplier': -1,\n",
       "   'arguments': {},\n",
       "   'enabled': True,\n",
       "   'name': 'std'}}}"
      ]
     },
     "execution_count": 61,
     "metadata": {},
     "output_type": "execute_result"
    }
   ],
   "source": [
    "from pyPortfolioAnalysis import *\n",
    "#adding constraints and objectives in a portfolio\n",
    "p1 = portfolio_spec(assets = list(port_ret.columns))\n",
    "add_constraint(p1, kind = 'box', minimum = [-0.3, -0.1, -0.3], maximum = [0.4, 0.75, 0.6])\n",
    "add_constraint(p1, 'full_investment')\n",
    "add_constraint(p1, kind = 'group', groups = {'auto':[2], 'other':[0,1]},\n",
    "              group_min = [-.2, -0.3], group_max = [.4, 0.99])\n",
    "add_constraint(p1, kind = 'factor_exposure', B = factor_exp, lower = 0.0, upper = 0.0005)\n",
    "add_objective(p1, kind='return', name = 'mean', target = 0.0005)\n",
    "add_objective(p1, kind='risk', name = 'std', target = .01)\n",
    "p1.port_summary()\n",
    "constraints = get_constraints(p1)\n",
    "#summary method is useful to get the complete picture of the portfolio\n",
    "p1.port_summary()\n"
   ]
  },
  {
   "cell_type": "code",
   "execution_count": 56,
   "metadata": {},
   "outputs": [
    {
     "data": {
      "text/plain": [
       "[{'weights': {'wmt': 0.37252697575556637,\n",
       "   'mcd': 0.4267762405559593,\n",
       "   'ge': 0.2006962401876775}},\n",
       " {'objective_measures': [['return', array(0.00055759)],\n",
       "   ['risk', array(0.01191289)]]},\n",
       " {'best': 73.71214752648412}]"
      ]
     },
     "execution_count": 56,
     "metadata": {},
     "output_type": "execute_result"
    }
   ],
   "source": [
    "optimize_portfolio(port_ret, p1, optimize_method = 'DEoptim', disp = False)"
   ]
  },
  {
   "cell_type": "code",
   "execution_count": 57,
   "metadata": {},
   "outputs": [
    {
     "data": {
      "image/png": "[encoded data removed]",
      "text/plain": [
       "<Figure size 432x288 with 1 Axes>"
      ]
     },
     "metadata": {
      "needs_background": "light"
     },
     "output_type": "display_data"
    }
   ],
   "source": [
    "chart_weights(p1)"
   ]
  }
 ],
 "metadata": {
  "kernelspec": {
   "display_name": "Python 3",
   "language": "python",
   "name": "python3"
  },
  "language_info": {
   "codemirror_mode": {
    "name": "ipython",
    "version": 3
   },
   "file_extension": ".py",
   "mimetype": "text/x-python",
   "name": "python",
   "nbconvert_exporter": "python",
   "pygments_lexer": "ipython3",
   "version": "3.8.5"
  }
 },
 "nbformat": 4,
 "nbformat_minor": 4
}
