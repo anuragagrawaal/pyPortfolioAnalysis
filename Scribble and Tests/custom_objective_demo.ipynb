{
 "cells": [
  {
   "cell_type": "markdown",
   "metadata": {},
   "source": [
    "# Demo to add custom function as objective"
   ]
  },
  {
   "cell_type": "code",
   "execution_count": 3,
   "metadata": {},
   "outputs": [],
   "source": [
    "#Adding Custom Objective can be done by passing the name argument as a dict with {'name_obj':obj_func}\n",
    "#Below is the demo for sortino ratio function which takes tha\n",
    "#argument sortino_raio(w, R). User ca create thoer own function as \n",
    "#objectives under the name of return, risk, performance_metrics"
   ]
  },
  {
   "cell_type": "code",
   "execution_count": null,
   "metadata": {},
   "outputs": [],
   "source": [
    "import pandas_datareader as pdr\n",
    "aapl = pdr.get_data_yahoo('AAPL')\n",
    "msft = pdr.get_data_yahoo('MSFT')\n",
    "tsla = pdr.get_data_yahoo('TSLA')\n",
    "uber = pdr.get_data_yahoo('UBER')\n",
    "amzn = pdr.get_data_yahoo('AMZN')\n",
    "port = pd.DataFrame({'aapl': pd.DataFrame.reset_index(aapl).iloc[:,6], 'msft':pd.DataFrame.reset_index(msft).iloc[:,6],\n",
    "                   'tsla': pd.DataFrame.reset_index(tsla).iloc[:,6], 'uber': pd.DataFrame.reset_index(uber).iloc[:,6],\n",
    "                    'amzn': pd.DataFrame.reset_index(amzn).iloc[:,6]})\n",
    "port_ret = port.pct_change().dropna()\n",
    "R = port_ret\n",
    "#data downloaded as pd.DataFrame. \n",
    "\n",
    "from pyPortfolioAnalysis import *\n",
    "\n",
    "#calling the portfolio spec object with asset_names\n",
    "portfolio = portfolio_spec(assets = ['aapl', 'msft', 'tsla', 'uber', 'amzn'])\n",
    "\n",
    "add_constraint(portfolio, kind = 'box', minimum = -0.5, maximum = 0.6)\n",
    "add_constraint(portfolio, kind = 'dollar_neutral')\n",
    "add_objective(portfolio, kind = 'performance_metrics', name = {'sortino':sortino_ratio}\n",
    "              , target = 0.12, arguments = {'w':w, 'R':R},enabled = True)\n",
    "optimize_portfolio(R,portfolio, optimize_method = 'DEoptim', disp = False)"
   ]
  }
 ],
 "metadata": {
  "kernelspec": {
   "display_name": "Python 3",
   "language": "python",
   "name": "python3"
  },
  "language_info": {
   "codemirror_mode": {
    "name": "ipython",
    "version": 3
   },
   "file_extension": ".py",
   "mimetype": "text/x-python",
   "name": "python",
   "nbconvert_exporter": "python",
   "pygments_lexer": "ipython3",
   "version": "3.8.5"
  }
 },
 "nbformat": 4,
 "nbformat_minor": 4
}
