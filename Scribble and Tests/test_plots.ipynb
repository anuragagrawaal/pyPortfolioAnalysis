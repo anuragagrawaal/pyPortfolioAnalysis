{
 "cells": [
  {
   "cell_type": "markdown",
   "metadata": {},
   "source": [
    "# Charts Demo"
   ]
  },
  {
   "cell_type": "code",
   "execution_count": 1,
   "metadata": {},
   "outputs": [],
   "source": [
    "#downloading Data...\n",
    "#portfolio consists of 2 stocks, 1 ETF, 1 Mutual Fund, and 1 currency\n",
    "import pandas_datareader as pdr\n",
    "tlt = pdr.get_data_yahoo('TLT')\n",
    "att = pdr.get_data_yahoo('T')\n",
    "f500 = pdr.get_data_yahoo('FXAIX')\n",
    "jnj = pdr.get_data_yahoo('JNJ')\n",
    "usd_jpy = pdr.get_data_yahoo('JPY=X')\n",
    "import pandas as pd\n",
    "port = pd.DataFrame({'tlt':pd.DataFrame.reset_index(tlt).iloc[:,6], 'att':pd.DataFrame.reset_index(att).iloc[:,6],\n",
    "                   'f500':pd.DataFrame.reset_index(f500).iloc[:,6],'jnj':pd.DataFrame.reset_index(jnj).iloc[:,6],\n",
    "                    'usd_jpy':pd.DataFrame.reset_index(usd_jpy).iloc[:,6]})\n",
    "port_ret = port.pct_change().dropna()"
   ]
  },
  {
   "cell_type": "code",
   "execution_count": 2,
   "metadata": {},
   "outputs": [
    {
     "data": {
      "text/html": [
       "<div>\n",
       "<style scoped>\n",
       "    .dataframe tbody tr th:only-of-type {\n",
       "        vertical-align: middle;\n",
       "    }\n",
       "\n",
       "    .dataframe tbody tr th {\n",
       "        vertical-align: top;\n",
       "    }\n",
       "\n",
       "    .dataframe thead th {\n",
       "        text-align: right;\n",
       "    }\n",
       "</style>\n",
       "<table border=\"1\" class=\"dataframe\">\n",
       "  <thead>\n",
       "    <tr style=\"text-align: right;\">\n",
       "      <th></th>\n",
       "      <th>tlt</th>\n",
       "      <th>att</th>\n",
       "      <th>f500</th>\n",
       "      <th>jnj</th>\n",
       "      <th>usd_jpy</th>\n",
       "    </tr>\n",
       "  </thead>\n",
       "  <tbody>\n",
       "    <tr>\n",
       "      <th>1</th>\n",
       "      <td>-0.009361</td>\n",
       "      <td>0.016597</td>\n",
       "      <td>0.016855</td>\n",
       "      <td>0.019274</td>\n",
       "      <td>-0.003437</td>\n",
       "    </tr>\n",
       "    <tr>\n",
       "      <th>2</th>\n",
       "      <td>0.015587</td>\n",
       "      <td>-0.009038</td>\n",
       "      <td>-0.021607</td>\n",
       "      <td>-0.019112</td>\n",
       "      <td>0.006626</td>\n",
       "    </tr>\n",
       "    <tr>\n",
       "      <th>3</th>\n",
       "      <td>-0.003101</td>\n",
       "      <td>0.015299</td>\n",
       "      <td>0.000454</td>\n",
       "      <td>0.005155</td>\n",
       "      <td>-0.010262</td>\n",
       "    </tr>\n",
       "    <tr>\n",
       "      <th>4</th>\n",
       "      <td>0.010530</td>\n",
       "      <td>-0.017676</td>\n",
       "      <td>-0.011491</td>\n",
       "      <td>-0.017949</td>\n",
       "      <td>0.003368</td>\n",
       "    </tr>\n",
       "    <tr>\n",
       "      <th>5</th>\n",
       "      <td>-0.006789</td>\n",
       "      <td>0.018879</td>\n",
       "      <td>0.005200</td>\n",
       "      <td>0.001984</td>\n",
       "      <td>0.001542</td>\n",
       "    </tr>\n",
       "  </tbody>\n",
       "</table>\n",
       "</div>"
      ],
      "text/plain": [
       "        tlt       att      f500       jnj   usd_jpy\n",
       "1 -0.009361  0.016597  0.016855  0.019274 -0.003437\n",
       "2  0.015587 -0.009038 -0.021607 -0.019112  0.006626\n",
       "3 -0.003101  0.015299  0.000454  0.005155 -0.010262\n",
       "4  0.010530 -0.017676 -0.011491 -0.017949  0.003368\n",
       "5 -0.006789  0.018879  0.005200  0.001984  0.001542"
      ]
     },
     "execution_count": 2,
     "metadata": {},
     "output_type": "execute_result"
    }
   ],
   "source": [
    "#checking Data\n",
    "port_ret.head()"
   ]
  },
  {
   "cell_type": "code",
   "execution_count": 52,
   "metadata": {},
   "outputs": [
    {
     "data": {
      "text/plain": [
       "{'Assets': ['tlt', 'att', 'f500', 'jnj', 'usd_jpy'],\n",
       " 'Number of Assets': 5,\n",
       " 'category_labels': None,\n",
       " 'Constraints': {'long_only': {'minimum': array([0, 0, 0, 0, 0]),\n",
       "   'maximum': array([1, 1, 1, 1, 1]),\n",
       "   'enabled': True},\n",
       "  'full_investment': {'min_sum': 1, 'max_sum': 1, 'enabled': True},\n",
       "  'group': {'groups': {'stocks': [1, 3], 'mf_etf': [0, 2], 'fx': [4]},\n",
       "   'group_min': [0.3, 0.2, 0.1],\n",
       "   'group_max': [0.4, 0.99, 0.5],\n",
       "   'group_label': ['stocks', 'mf_etf', 'fx'],\n",
       "   'enabled': True}},\n",
       " 'Objectives': {'return': {'target': 0.001,\n",
       "   'multiplier': -1,\n",
       "   'arguments': {},\n",
       "   'enabled': True,\n",
       "   'name': 'mean'},\n",
       "  'risk': {'target': 0.008,\n",
       "   'multiplier': -1,\n",
       "   'arguments': {},\n",
       "   'enabled': True,\n",
       "   'name': 'std'}}}"
      ]
     },
     "execution_count": 52,
     "metadata": {},
     "output_type": "execute_result"
    }
   ],
   "source": [
    "from pyPortfolioAnalysis import *\n",
    "#adding constraints and objectives in a portfolio\n",
    "p1 = portfolio_spec(assets = list(port_ret.columns))\n",
    "add_constraint(p1, 'long_only')\n",
    "add_constraint(p1, 'full_investment')\n",
    "add_constraint(p1, kind = 'group', groups = {'stocks':[1,3], 'mf_etf':[0,2], 'fx':[4]},\n",
    "              group_min = [0.3, 0.2, 0.1], group_max = [0.4, 0.99, 0.5])\n",
    "add_objective(p1, kind='return', name = 'mean', target = 0.001)\n",
    "add_objective(p1, kind='risk', name = 'std', target = .008)\n",
    "p1.port_summary()\n",
    "constraints = get_constraints(p1)\n",
    "#summary method is useful to get the complete picture of the portfolio\n",
    "p1.port_summary()"
   ]
  },
  {
   "cell_type": "code",
   "execution_count": 53,
   "metadata": {},
   "outputs": [
    {
     "name": "stdout",
     "output_type": "stream",
     "text": [
      "differential_evolution step 1: f(x)= 28.5899\n",
      "differential_evolution step 2: f(x)= 28.5899\n",
      "differential_evolution step 3: f(x)= 28.5899\n",
      "differential_evolution step 4: f(x)= 28.5899\n",
      "differential_evolution step 5: f(x)= 28.5899\n",
      "differential_evolution step 6: f(x)= 28.5899\n",
      "differential_evolution step 7: f(x)= 28.5899\n",
      "differential_evolution step 8: f(x)= 28.5899\n",
      "differential_evolution step 9: f(x)= 28.5899\n",
      "differential_evolution step 10: f(x)= 28.5899\n",
      "differential_evolution step 11: f(x)= 28.5899\n",
      "differential_evolution step 12: f(x)= 28.5899\n",
      "differential_evolution step 13: f(x)= 28.5899\n",
      "differential_evolution step 14: f(x)= 28.5899\n",
      "differential_evolution step 15: f(x)= 28.5899\n",
      "differential_evolution step 16: f(x)= 28.5899\n",
      "differential_evolution step 17: f(x)= 25.9204\n",
      "differential_evolution step 18: f(x)= 25.9204\n",
      "differential_evolution step 19: f(x)= 25.9204\n",
      "differential_evolution step 20: f(x)= 19.3404\n",
      "differential_evolution step 21: f(x)= 19.3404\n",
      "differential_evolution step 22: f(x)= 10.1195\n",
      "differential_evolution step 23: f(x)= 10.1195\n",
      "differential_evolution step 24: f(x)= 10.1195\n",
      "differential_evolution step 25: f(x)= 10.1195\n",
      "differential_evolution step 26: f(x)= 10.1195\n",
      "differential_evolution step 27: f(x)= 10.1195\n",
      "differential_evolution step 28: f(x)= 10.1195\n",
      "differential_evolution step 29: f(x)= 10.1195\n",
      "differential_evolution step 30: f(x)= 10.1195\n",
      "differential_evolution step 31: f(x)= 10.1195\n",
      "differential_evolution step 32: f(x)= 10.1195\n",
      "differential_evolution step 33: f(x)= 10.1195\n",
      "differential_evolution step 34: f(x)= 10.1195\n",
      "differential_evolution step 35: f(x)= 10.1195\n",
      "differential_evolution step 36: f(x)= 10.1195\n",
      "differential_evolution step 37: f(x)= 9.87565\n",
      "differential_evolution step 38: f(x)= 9.87565\n",
      "differential_evolution step 39: f(x)= 9.87565\n",
      "differential_evolution step 40: f(x)= 9.87565\n",
      "differential_evolution step 41: f(x)= 9.87565\n",
      "differential_evolution step 42: f(x)= 9.87565\n",
      "differential_evolution step 43: f(x)= 9.87565\n",
      "differential_evolution step 44: f(x)= 9.87565\n",
      "differential_evolution step 45: f(x)= 6.96692\n",
      "differential_evolution step 46: f(x)= 6.96692\n",
      "differential_evolution step 47: f(x)= 6.96692\n",
      "differential_evolution step 48: f(x)= 6.96692\n",
      "differential_evolution step 49: f(x)= 6.96692\n",
      "differential_evolution step 50: f(x)= 6.96692\n",
      "differential_evolution step 51: f(x)= 6.96692\n",
      "differential_evolution step 52: f(x)= 6.96692\n",
      "differential_evolution step 53: f(x)= 6.96692\n",
      "differential_evolution step 54: f(x)= 6.2646\n",
      "differential_evolution step 55: f(x)= 6.2646\n",
      "differential_evolution step 56: f(x)= 6.2646\n",
      "differential_evolution step 57: f(x)= 6.07484\n",
      "differential_evolution step 58: f(x)= 6.07484\n",
      "differential_evolution step 59: f(x)= 6.07484\n",
      "differential_evolution step 60: f(x)= 6.07484\n",
      "differential_evolution step 61: f(x)= 6.07484\n",
      "differential_evolution step 62: f(x)= 6.07484\n",
      "differential_evolution step 63: f(x)= 6.07484\n",
      "differential_evolution step 64: f(x)= 6.07484\n",
      "differential_evolution step 65: f(x)= 6.07484\n",
      "differential_evolution step 66: f(x)= 6.07484\n",
      "differential_evolution step 67: f(x)= 6.07484\n",
      "differential_evolution step 68: f(x)= 6.07484\n",
      "differential_evolution step 69: f(x)= 6.07484\n",
      "differential_evolution step 70: f(x)= 6.07484\n",
      "differential_evolution step 71: f(x)= 5.67696\n",
      "differential_evolution step 72: f(x)= 5.67696\n",
      "differential_evolution step 73: f(x)= 5.67696\n",
      "differential_evolution step 74: f(x)= 5.67696\n",
      "differential_evolution step 75: f(x)= 5.67696\n",
      "differential_evolution step 76: f(x)= 5.67696\n",
      "differential_evolution step 77: f(x)= 5.67696\n",
      "differential_evolution step 78: f(x)= 5.67696\n",
      "differential_evolution step 79: f(x)= 5.67696\n",
      "differential_evolution step 80: f(x)= 5.67696\n",
      "differential_evolution step 81: f(x)= 5.67696\n",
      "differential_evolution step 82: f(x)= 5.67696\n",
      "differential_evolution step 83: f(x)= 5.67696\n",
      "differential_evolution step 84: f(x)= 5.67696\n",
      "differential_evolution step 85: f(x)= 5.67696\n",
      "differential_evolution step 86: f(x)= 5.67696\n",
      "differential_evolution step 87: f(x)= 5.67696\n",
      "differential_evolution step 88: f(x)= 5.55102\n",
      "differential_evolution step 89: f(x)= 5.55102\n",
      "differential_evolution step 90: f(x)= 5.43394\n",
      "differential_evolution step 91: f(x)= 5.43394\n",
      "differential_evolution step 92: f(x)= 5.43394\n",
      "differential_evolution step 93: f(x)= 5.43394\n",
      "differential_evolution step 94: f(x)= 5.43394\n",
      "differential_evolution step 95: f(x)= 5.43394\n",
      "differential_evolution step 96: f(x)= 5.43394\n",
      "differential_evolution step 97: f(x)= 5.43394\n",
      "differential_evolution step 98: f(x)= 5.29679\n",
      "differential_evolution step 99: f(x)= 5.29679\n",
      "differential_evolution step 100: f(x)= 5.29679\n",
      "differential_evolution step 101: f(x)= 5.29679\n",
      "differential_evolution step 102: f(x)= 5.29679\n",
      "differential_evolution step 103: f(x)= 5.29679\n",
      "differential_evolution step 104: f(x)= 5.29679\n",
      "differential_evolution step 105: f(x)= 5.29679\n",
      "differential_evolution step 106: f(x)= 5.29679\n",
      "differential_evolution step 107: f(x)= 5.29679\n",
      "differential_evolution step 108: f(x)= 5.11097\n",
      "differential_evolution step 109: f(x)= 5.11097\n",
      "differential_evolution step 110: f(x)= 5.11097\n",
      "differential_evolution step 111: f(x)= 5.11097\n",
      "differential_evolution step 112: f(x)= 5.11097\n",
      "differential_evolution step 113: f(x)= 5.11097\n",
      "differential_evolution step 114: f(x)= 5.11097\n",
      "differential_evolution step 115: f(x)= 5.11097\n",
      "differential_evolution step 116: f(x)= 5.11097\n",
      "differential_evolution step 117: f(x)= 5.11097\n",
      "differential_evolution step 118: f(x)= 5.11097\n",
      "differential_evolution step 119: f(x)= 5.11097\n",
      "differential_evolution step 120: f(x)= 5.09735\n",
      "differential_evolution step 121: f(x)= 5.09735\n",
      "differential_evolution step 122: f(x)= 5.09735\n",
      "differential_evolution step 123: f(x)= 5.09735\n",
      "differential_evolution step 124: f(x)= 5.09735\n",
      "differential_evolution step 125: f(x)= 5.09735\n",
      "differential_evolution step 126: f(x)= 5.09735\n",
      "differential_evolution step 127: f(x)= 5.09735\n",
      "differential_evolution step 128: f(x)= 5.09735\n",
      "differential_evolution step 129: f(x)= 5.09735\n",
      "differential_evolution step 130: f(x)= 5.09735\n",
      "differential_evolution step 131: f(x)= 5.09735\n",
      "differential_evolution step 132: f(x)= 5.09735\n",
      "differential_evolution step 133: f(x)= 5.09735\n",
      "differential_evolution step 134: f(x)= 5.09735\n",
      "differential_evolution step 135: f(x)= 5.09735\n",
      "differential_evolution step 136: f(x)= 5.09735\n",
      "differential_evolution step 137: f(x)= 5.09735\n",
      "differential_evolution step 138: f(x)= 5.06866\n",
      "differential_evolution step 139: f(x)= 5.05332\n",
      "differential_evolution step 140: f(x)= 5.05332\n",
      "differential_evolution step 141: f(x)= 5.0227\n",
      "differential_evolution step 142: f(x)= 4.99331\n",
      "differential_evolution step 143: f(x)= 4.99331\n",
      "differential_evolution step 144: f(x)= 4.99331\n",
      "differential_evolution step 145: f(x)= 4.99331\n",
      "differential_evolution step 146: f(x)= 4.99331\n",
      "differential_evolution step 147: f(x)= 4.99331\n",
      "differential_evolution step 148: f(x)= 4.99331\n",
      "differential_evolution step 149: f(x)= 4.99331\n",
      "differential_evolution step 150: f(x)= 4.99331\n",
      "differential_evolution step 151: f(x)= 4.99331\n",
      "differential_evolution step 152: f(x)= 4.99331\n",
      "differential_evolution step 153: f(x)= 4.99331\n",
      "differential_evolution step 154: f(x)= 4.99331\n",
      "differential_evolution step 155: f(x)= 4.99331\n",
      "differential_evolution step 156: f(x)= 4.99331\n",
      "differential_evolution step 157: f(x)= 4.99331\n",
      "differential_evolution step 158: f(x)= 4.99331\n",
      "differential_evolution step 159: f(x)= 4.99331\n",
      "differential_evolution step 160: f(x)= 4.99331\n",
      "differential_evolution step 161: f(x)= 4.98499\n",
      "differential_evolution step 162: f(x)= 4.98499\n",
      "differential_evolution step 163: f(x)= 4.98499\n",
      "differential_evolution step 164: f(x)= 4.98499\n",
      "differential_evolution step 165: f(x)= 4.98499\n",
      "differential_evolution step 166: f(x)= 4.98499\n",
      "differential_evolution step 167: f(x)= 4.98499\n",
      "differential_evolution step 168: f(x)= 4.97417\n",
      "differential_evolution step 169: f(x)= 4.97417\n",
      "differential_evolution step 170: f(x)= 4.97417\n",
      "differential_evolution step 171: f(x)= 4.97417\n",
      "differential_evolution step 172: f(x)= 4.97417\n",
      "differential_evolution step 173: f(x)= 4.97417\n",
      "differential_evolution step 174: f(x)= 4.97417\n",
      "differential_evolution step 175: f(x)= 4.97417\n",
      "differential_evolution step 176: f(x)= 4.97417\n",
      "differential_evolution step 177: f(x)= 4.97417\n",
      "differential_evolution step 178: f(x)= 4.97417\n"
     ]
    },
    {
     "name": "stdout",
     "output_type": "stream",
     "text": [
      "differential_evolution step 179: f(x)= 4.97417\n",
      "differential_evolution step 180: f(x)= 4.96732\n",
      "differential_evolution step 181: f(x)= 4.96732\n",
      "differential_evolution step 182: f(x)= 4.96732\n",
      "differential_evolution step 183: f(x)= 4.96732\n",
      "differential_evolution step 184: f(x)= 4.96732\n",
      "differential_evolution step 185: f(x)= 4.96732\n",
      "differential_evolution step 186: f(x)= 4.96732\n",
      "differential_evolution step 187: f(x)= 4.96732\n",
      "differential_evolution step 188: f(x)= 4.96732\n",
      "differential_evolution step 189: f(x)= 4.96376\n",
      "differential_evolution step 190: f(x)= 4.96376\n",
      "differential_evolution step 191: f(x)= 4.96376\n",
      "differential_evolution step 192: f(x)= 4.96376\n"
     ]
    },
    {
     "data": {
      "text/plain": [
       "[{'weights': {'tlt': 0.13946691707342773,\n",
       "   'att': 0.004334314279153654,\n",
       "   'f500': 0.4225054237030385,\n",
       "   'jnj': 0.3321501071128092,\n",
       "   'usd_jpy': 0.10154323292635768}},\n",
       " {'objective_measures': [['return', array(0.00050303)],\n",
       "   ['risk', array(0.00799985)]]},\n",
       " {'best': 4.962773702876129}]"
      ]
     },
     "execution_count": 53,
     "metadata": {},
     "output_type": "execute_result"
    }
   ],
   "source": [
    "optimize_portfolio(port_ret, p1, optimize_method = 'DEoptim', search_size = 30000)"
   ]
  },
  {
   "cell_type": "code",
   "execution_count": 54,
   "metadata": {},
   "outputs": [
    {
     "data": {
      "text/plain": [
       "{'Assets': ['tlt', 'att', 'f500', 'jnj', 'usd_jpy'],\n",
       " 'Number of Assets': 5,\n",
       " 'category_labels': None,\n",
       " 'Weights': array([0.13946692, 0.00433431, 0.42250542, 0.33215011, 0.10154323]),\n",
       " 'Objective_measures': [['return', array(0.00050303)],\n",
       "  ['risk', array(0.00799985)]]}"
      ]
     },
     "execution_count": 54,
     "metadata": {},
     "output_type": "execute_result"
    }
   ],
   "source": [
    "p1.optimal_portfolio()"
   ]
  },
  {
   "cell_type": "code",
   "execution_count": 55,
   "metadata": {},
   "outputs": [
    {
     "data": {
      "image/png": "[encoded data removed]",
      "text/plain": [
       "<Figure size 576x288 with 2 Axes>"
      ]
     },
     "metadata": {
      "needs_background": "light"
     },
     "output_type": "display_data"
    }
   ],
   "source": [
    "chart_efficient_frontier(p1,port_ret, rand_pf = 100, figsize = (8,4), alpha = 0.1)"
   ]
  },
  {
   "cell_type": "code",
   "execution_count": 56,
   "metadata": {},
   "outputs": [
    {
     "data": {
      "image/png": "[encoded data removed]",
      "text/plain": [
       "<Figure size 432x288 with 1 Axes>"
      ]
     },
     "metadata": {
      "needs_background": "light"
     },
     "output_type": "display_data"
    }
   ],
   "source": [
    "chart_weights(p1)"
   ]
  },
  {
   "cell_type": "code",
   "execution_count": 57,
   "metadata": {},
   "outputs": [
    {
     "data": {
      "image/png": "[encoded data removed]",
      "text/plain": [
       "<Figure size 432x288 with 1 Axes>"
      ]
     },
     "metadata": {
      "needs_background": "light"
     },
     "output_type": "display_data"
    }
   ],
   "source": [
    "chart_group_weights(p1)"
   ]
  }
 ],
 "metadata": {
  "kernelspec": {
   "display_name": "Python 3",
   "language": "python",
   "name": "python3"
  },
  "language_info": {
   "codemirror_mode": {
    "name": "ipython",
    "version": 3
   },
   "file_extension": ".py",
   "mimetype": "text/x-python",
   "name": "python",
   "nbconvert_exporter": "python",
   "pygments_lexer": "ipython3",
   "version": "3.8.5"
  }
 },
 "nbformat": 4,
 "nbformat_minor": 4
}
