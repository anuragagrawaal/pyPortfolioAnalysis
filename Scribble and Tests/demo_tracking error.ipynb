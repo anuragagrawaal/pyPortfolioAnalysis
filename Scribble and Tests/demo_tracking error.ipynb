{
 "cells": [
  {
   "cell_type": "markdown",
   "metadata": {},
   "source": [
    "# Minimizing Tracking Error (Custom Function in pyPortfolioAnalysis)"
   ]
  },
  {
   "cell_type": "code",
   "execution_count": 1,
   "metadata": {},
   "outputs": [],
   "source": [
    "import pandas_datareader as pdr"
   ]
  },
  {
   "cell_type": "code",
   "execution_count": 2,
   "metadata": {},
   "outputs": [],
   "source": [
    "assets = ['DEVIX',\n",
    "'FSDPX',\n",
    "'MEIIX',\n",
    "'ODVIX',\n",
    "'OPPAX',\n",
    "'PDBAX',\n",
    "'PRGTX',\n",
    "'PRNHX',\n",
    "'AEPGX',\n",
    "'AGTHX',\n",
    "'PRDGX',\n",
    "'FBNRX',\n",
    "'VEVRX',\n",
    "'VIEIX',\n",
    "'VINIX',\n",
    "'VFAIX',\n",
    "'VGHCX',\n",
    "'VFTNX',\n",
    "'VGSNX',\n",
    "'RFDTX',\n",
    "'RFFTX',\n",
    "'RFHTX',\n",
    "'RFKTX']\n",
    "bench_name = ['FXAIX']"
   ]
  },
  {
   "cell_type": "code",
   "execution_count": 3,
   "metadata": {},
   "outputs": [],
   "source": [
    "port = [0]*len(assets)\n",
    "for i in range(0, len(assets)):\n",
    "    port[i] = pdr.get_data_yahoo(assets[i]).iloc[:,5].pct_change().dropna()"
   ]
  },
  {
   "cell_type": "code",
   "execution_count": 4,
   "metadata": {},
   "outputs": [
    {
     "data": {
      "text/html": [
       "<div>\n",
       "<style scoped>\n",
       "    .dataframe tbody tr th:only-of-type {\n",
       "        vertical-align: middle;\n",
       "    }\n",
       "\n",
       "    .dataframe tbody tr th {\n",
       "        vertical-align: top;\n",
       "    }\n",
       "\n",
       "    .dataframe thead th {\n",
       "        text-align: right;\n",
       "    }\n",
       "</style>\n",
       "<table border=\"1\" class=\"dataframe\">\n",
       "  <thead>\n",
       "    <tr style=\"text-align: right;\">\n",
       "      <th></th>\n",
       "      <th>DEVIX</th>\n",
       "      <th>FSDPX</th>\n",
       "      <th>MEIIX</th>\n",
       "      <th>ODVIX</th>\n",
       "      <th>OPPAX</th>\n",
       "      <th>PDBAX</th>\n",
       "      <th>PRGTX</th>\n",
       "      <th>PRNHX</th>\n",
       "      <th>AEPGX</th>\n",
       "      <th>AGTHX</th>\n",
       "      <th>...</th>\n",
       "      <th>VIEIX</th>\n",
       "      <th>VINIX</th>\n",
       "      <th>VFAIX</th>\n",
       "      <th>VGHCX</th>\n",
       "      <th>VFTNX</th>\n",
       "      <th>VGSNX</th>\n",
       "      <th>RFDTX</th>\n",
       "      <th>RFFTX</th>\n",
       "      <th>RFHTX</th>\n",
       "      <th>RFKTX</th>\n",
       "    </tr>\n",
       "    <tr>\n",
       "      <th>Date</th>\n",
       "      <th></th>\n",
       "      <th></th>\n",
       "      <th></th>\n",
       "      <th></th>\n",
       "      <th></th>\n",
       "      <th></th>\n",
       "      <th></th>\n",
       "      <th></th>\n",
       "      <th></th>\n",
       "      <th></th>\n",
       "      <th></th>\n",
       "      <th></th>\n",
       "      <th></th>\n",
       "      <th></th>\n",
       "      <th></th>\n",
       "      <th></th>\n",
       "      <th></th>\n",
       "      <th></th>\n",
       "      <th></th>\n",
       "      <th></th>\n",
       "      <th></th>\n",
       "    </tr>\n",
       "  </thead>\n",
       "  <tbody>\n",
       "    <tr>\n",
       "      <th>2016-01-22</th>\n",
       "      <td>0.021381</td>\n",
       "      <td>0.022500</td>\n",
       "      <td>0.016871</td>\n",
       "      <td>0.027872</td>\n",
       "      <td>0.026900</td>\n",
       "      <td>0.000000</td>\n",
       "      <td>0.026029</td>\n",
       "      <td>0.021682</td>\n",
       "      <td>0.029998</td>\n",
       "      <td>0.020452</td>\n",
       "      <td>...</td>\n",
       "      <td>0.024884</td>\n",
       "      <td>0.020315</td>\n",
       "      <td>0.020141</td>\n",
       "      <td>0.021063</td>\n",
       "      <td>0.020851</td>\n",
       "      <td>0.027590</td>\n",
       "      <td>0.013736</td>\n",
       "      <td>0.018800</td>\n",
       "      <td>0.019264</td>\n",
       "      <td>0.019481</td>\n",
       "    </tr>\n",
       "    <tr>\n",
       "      <th>2016-01-25</th>\n",
       "      <td>-0.025075</td>\n",
       "      <td>-0.044173</td>\n",
       "      <td>-0.013663</td>\n",
       "      <td>-0.006596</td>\n",
       "      <td>-0.015600</td>\n",
       "      <td>0.000711</td>\n",
       "      <td>-0.013093</td>\n",
       "      <td>-0.016563</td>\n",
       "      <td>-0.009549</td>\n",
       "      <td>-0.015032</td>\n",
       "      <td>...</td>\n",
       "      <td>-0.021135</td>\n",
       "      <td>-0.015665</td>\n",
       "      <td>-0.022498</td>\n",
       "      <td>-0.009704</td>\n",
       "      <td>-0.015523</td>\n",
       "      <td>-0.006563</td>\n",
       "      <td>-0.008130</td>\n",
       "      <td>-0.010545</td>\n",
       "      <td>-0.011168</td>\n",
       "      <td>-0.011323</td>\n",
       "    </tr>\n",
       "    <tr>\n",
       "      <th>2016-01-26</th>\n",
       "      <td>0.027135</td>\n",
       "      <td>0.012790</td>\n",
       "      <td>0.017480</td>\n",
       "      <td>0.007008</td>\n",
       "      <td>0.012558</td>\n",
       "      <td>0.000710</td>\n",
       "      <td>0.006633</td>\n",
       "      <td>0.009474</td>\n",
       "      <td>0.011569</td>\n",
       "      <td>0.010977</td>\n",
       "      <td>...</td>\n",
       "      <td>0.020342</td>\n",
       "      <td>0.014165</td>\n",
       "      <td>0.019728</td>\n",
       "      <td>0.004777</td>\n",
       "      <td>0.013278</td>\n",
       "      <td>0.021622</td>\n",
       "      <td>0.009107</td>\n",
       "      <td>0.010657</td>\n",
       "      <td>0.011295</td>\n",
       "      <td>0.011453</td>\n",
       "    </tr>\n",
       "    <tr>\n",
       "      <th>2016-01-27</th>\n",
       "      <td>-0.005743</td>\n",
       "      <td>-0.011955</td>\n",
       "      <td>-0.002593</td>\n",
       "      <td>-0.003663</td>\n",
       "      <td>-0.009892</td>\n",
       "      <td>0.000710</td>\n",
       "      <td>-0.022241</td>\n",
       "      <td>-0.013816</td>\n",
       "      <td>-0.004765</td>\n",
       "      <td>-0.012447</td>\n",
       "      <td>...</td>\n",
       "      <td>-0.013466</td>\n",
       "      <td>-0.010806</td>\n",
       "      <td>-0.005067</td>\n",
       "      <td>-0.014458</td>\n",
       "      <td>-0.011466</td>\n",
       "      <td>-0.019401</td>\n",
       "      <td>-0.003610</td>\n",
       "      <td>-0.006151</td>\n",
       "      <td>-0.006873</td>\n",
       "      <td>-0.007077</td>\n",
       "    </tr>\n",
       "    <tr>\n",
       "      <th>2016-01-28</th>\n",
       "      <td>0.003697</td>\n",
       "      <td>0.001193</td>\n",
       "      <td>0.001950</td>\n",
       "      <td>0.006985</td>\n",
       "      <td>-0.004772</td>\n",
       "      <td>0.000000</td>\n",
       "      <td>0.005055</td>\n",
       "      <td>-0.007930</td>\n",
       "      <td>-0.003112</td>\n",
       "      <td>0.006436</td>\n",
       "      <td>...</td>\n",
       "      <td>-0.002482</td>\n",
       "      <td>0.005578</td>\n",
       "      <td>0.001389</td>\n",
       "      <td>-0.022378</td>\n",
       "      <td>0.001657</td>\n",
       "      <td>-0.007194</td>\n",
       "      <td>0.003623</td>\n",
       "      <td>0.003537</td>\n",
       "      <td>0.003460</td>\n",
       "      <td>0.003564</td>\n",
       "    </tr>\n",
       "  </tbody>\n",
       "</table>\n",
       "<p>5 rows × 23 columns</p>\n",
       "</div>"
      ],
      "text/plain": [
       "               DEVIX     FSDPX     MEIIX     ODVIX     OPPAX     PDBAX  \\\n",
       "Date                                                                     \n",
       "2016-01-22  0.021381  0.022500  0.016871  0.027872  0.026900  0.000000   \n",
       "2016-01-25 -0.025075 -0.044173 -0.013663 -0.006596 -0.015600  0.000711   \n",
       "2016-01-26  0.027135  0.012790  0.017480  0.007008  0.012558  0.000710   \n",
       "2016-01-27 -0.005743 -0.011955 -0.002593 -0.003663 -0.009892  0.000710   \n",
       "2016-01-28  0.003697  0.001193  0.001950  0.006985 -0.004772  0.000000   \n",
       "\n",
       "               PRGTX     PRNHX     AEPGX     AGTHX  ...     VIEIX     VINIX  \\\n",
       "Date                                                ...                       \n",
       "2016-01-22  0.026029  0.021682  0.029998  0.020452  ...  0.024884  0.020315   \n",
       "2016-01-25 -0.013093 -0.016563 -0.009549 -0.015032  ... -0.021135 -0.015665   \n",
       "2016-01-26  0.006633  0.009474  0.011569  0.010977  ...  0.020342  0.014165   \n",
       "2016-01-27 -0.022241 -0.013816 -0.004765 -0.012447  ... -0.013466 -0.010806   \n",
       "2016-01-28  0.005055 -0.007930 -0.003112  0.006436  ... -0.002482  0.005578   \n",
       "\n",
       "               VFAIX     VGHCX     VFTNX     VGSNX     RFDTX     RFFTX  \\\n",
       "Date                                                                     \n",
       "2016-01-22  0.020141  0.021063  0.020851  0.027590  0.013736  0.018800   \n",
       "2016-01-25 -0.022498 -0.009704 -0.015523 -0.006563 -0.008130 -0.010545   \n",
       "2016-01-26  0.019728  0.004777  0.013278  0.021622  0.009107  0.010657   \n",
       "2016-01-27 -0.005067 -0.014458 -0.011466 -0.019401 -0.003610 -0.006151   \n",
       "2016-01-28  0.001389 -0.022378  0.001657 -0.007194  0.003623  0.003537   \n",
       "\n",
       "               RFHTX     RFKTX  \n",
       "Date                            \n",
       "2016-01-22  0.019264  0.019481  \n",
       "2016-01-25 -0.011168 -0.011323  \n",
       "2016-01-26  0.011295  0.011453  \n",
       "2016-01-27 -0.006873 -0.007077  \n",
       "2016-01-28  0.003460  0.003564  \n",
       "\n",
       "[5 rows x 23 columns]"
      ]
     },
     "execution_count": 4,
     "metadata": {},
     "output_type": "execute_result"
    }
   ],
   "source": [
    "import pandas as pd\n",
    "port_ret = pd.concat(port, axis = 1)\n",
    "port_ret.columns = assets\n",
    "port_ret.head()"
   ]
  },
  {
   "cell_type": "code",
   "execution_count": 5,
   "metadata": {},
   "outputs": [],
   "source": [
    "bench = pdr.get_data_yahoo(bench_name).iloc[:,4].pct_change().dropna()"
   ]
  },
  {
   "cell_type": "code",
   "execution_count": 6,
   "metadata": {},
   "outputs": [],
   "source": [
    "import numpy as np\n",
    "def tracking_error(w, R, Rb):\n",
    "    ret_p = list(np.matrix(w).dot(np.matrix(R).T))\n",
    "    alpha = list(Rb) - ret_p[0]\n",
    "    te = np.sqrt(np.var(alpha))\n",
    "    return(te)"
   ]
  },
  {
   "cell_type": "code",
   "execution_count": 32,
   "metadata": {},
   "outputs": [
    {
     "data": {
      "text/plain": [
       "<pyPortfolioAnalysis.pyPortfolioAnalysis.portfolio_spec at 0x7fb2cde22580>"
      ]
     },
     "execution_count": 32,
     "metadata": {},
     "output_type": "execute_result"
    }
   ],
   "source": [
    "from pyPortfolioAnalysis import *\n",
    "port1 = portfolio_spec(assets = assets)\n",
    "add_constraint(port1, kind = 'long_only')\n",
    "add_constraint(port1, kind = 'full_investment')\n",
    "add_objective(port1, kind = 'return',name = 'mean' ,target = 0.0005)\n",
    "add_objective(port1, kind = 'performance_metrics', name = {'te':tracking_error}, arguments = {'Rb':bench},\n",
    "             target = 0.0)"
   ]
  },
  {
   "cell_type": "code",
   "execution_count": 36,
   "metadata": {},
   "outputs": [
    {
     "data": {
      "text/plain": [
       "[{'weights': {'DEVIX': 0.0014899679597321523,\n",
       "   'FSDPX': 0.08156312349002337,\n",
       "   'MEIIX': 0.013694131659061779,\n",
       "   'ODVIX': 0.04133695793923222,\n",
       "   'OPPAX': 0.059064554512264784,\n",
       "   'PDBAX': 0.051906213551857545,\n",
       "   'PRGTX': 0.005046677420578913,\n",
       "   'PRNHX': 0.0450530373803542,\n",
       "   'AEPGX': 0.10199258142208832,\n",
       "   'AGTHX': 0.06416221186704164,\n",
       "   'PRDGX': 0.01764525337163289,\n",
       "   'FBNRX': 0.0009565196655483635,\n",
       "   'VEVRX': 0.006551510625773701,\n",
       "   'VIEIX': 0.022857752430427366,\n",
       "   'VINIX': 0.09390623358835798,\n",
       "   'VFAIX': 0.051100238328960344,\n",
       "   'VGHCX': 0.05906960129544654,\n",
       "   'VFTNX': 0.03138439579355551,\n",
       "   'VGSNX': 0.039467071270922104,\n",
       "   'RFDTX': 0.10101353478215498,\n",
       "   'RFFTX': 0.0120400478343418,\n",
       "   'RFHTX': 0.021397660225566755,\n",
       "   'RFKTX': 0.07730071957910101}},\n",
       " {'objective_measures': [['return', array(0.00051895)],\n",
       "   ['performance_metrics', array(0.)]]},\n",
       " {'best': 1.81004174265616}]"
      ]
     },
     "execution_count": 36,
     "metadata": {},
     "output_type": "execute_result"
    }
   ],
   "source": [
    "optimize_portfolio(port_ret, port1, optimize_method = 'dual_annealing', itersize = 250)"
   ]
  },
  {
   "cell_type": "code",
   "execution_count": 37,
   "metadata": {},
   "outputs": [],
   "source": [
    "opt_weights = extract_weights(port1)\n",
    "opt_port_ret = np.matrix(opt_weights).dot(port_ret.T).tolist()"
   ]
  },
  {
   "cell_type": "code",
   "execution_count": 38,
   "metadata": {},
   "outputs": [],
   "source": [
    "alpha = bench-opt_port_ret[0]"
   ]
  },
  {
   "cell_type": "code",
   "execution_count": 39,
   "metadata": {
    "scrolled": true
   },
   "outputs": [
    {
     "data": {
      "text/plain": [
       "0.003039780407780884"
      ]
     },
     "execution_count": 39,
     "metadata": {},
     "output_type": "execute_result"
    }
   ],
   "source": [
    "np.sqrt(np.var(alpha))"
   ]
  }
 ],
 "metadata": {
  "kernelspec": {
   "display_name": "Python 3",
   "language": "python",
   "name": "python3"
  },
  "language_info": {
   "codemirror_mode": {
    "name": "ipython",
    "version": 3
   },
   "file_extension": ".py",
   "mimetype": "text/x-python",
   "name": "python",
   "nbconvert_exporter": "python",
   "pygments_lexer": "ipython3",
   "version": "3.8.5"
  }
 },
 "nbformat": 4,
 "nbformat_minor": 4
}
